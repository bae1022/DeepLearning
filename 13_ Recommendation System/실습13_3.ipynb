{
 "cells": [
  {
   "cell_type": "code",
   "execution_count": 1,
   "id": "coordinated-suicide",
   "metadata": {
    "scrolled": true
   },
   "outputs": [
    {
     "name": "stderr",
     "output_type": "stream",
     "text": [
      "Using TensorFlow backend.\n",
      "C:\\Users\\shbk0\\AppData\\Local\\conda\\conda\\envs\\tutorial\\lib\\site-packages\\tensorflow_core\\python\\framework\\indexed_slices.py:424: UserWarning: Converting sparse IndexedSlices to a dense Tensor of unknown shape. This may consume a large amount of memory.\n",
      "  \"Converting sparse IndexedSlices to a dense Tensor of unknown shape. \"\n"
     ]
    }
   ],
   "source": [
    "from keras.models import load_model\n",
    "\n",
    "model = load_model('./model/model11_2.hdf5')"
   ]
  },
  {
   "cell_type": "code",
   "execution_count": 2,
   "id": "endless-current",
   "metadata": {},
   "outputs": [],
   "source": [
    "import pickle\n",
    "\n",
    "#loading\n",
    "with open('tokenizer.pickle', 'rb') as handle:\n",
    "    tokenizer = pickle.load(handle)"
   ]
  },
  {
   "cell_type": "code",
   "execution_count": 11,
   "id": "loved-dialogue",
   "metadata": {},
   "outputs": [
    {
     "name": "stdout",
     "output_type": "stream",
     "text": [
      "                                  title  section\n",
      "125  임혜숙 장관 후보자 디지털 뉴딜 성공으로 대한민국 대전환 기여        3\n"
     ]
    }
   ],
   "source": [
    "import pandas as pd\n",
    "import matplotlib.pyplot as plt\n",
    "\n",
    "df1 = pd.read_csv('../dataset/train_SectionDataset.csv', delimiter=\",\", header=0)\n",
    "data = pd.read_csv('../dataset/test_SectionDataset.csv', delimiter=\",\", header=0)\n",
    "\n",
    "data_input = data.loc[[125], :]\n",
    "\n",
    "print(data_input)"
   ]
  },
  {
   "cell_type": "code",
   "execution_count": 12,
   "id": "toxic-january",
   "metadata": {},
   "outputs": [
    {
     "name": "stdout",
     "output_type": "stream",
     "text": [
      "Index: 125, Actual Section: 3, Expected Section: 3\n",
      "임혜숙 장관 후보자 디지털 뉴딜 성공으로 대한민국 대전환 기여\n"
     ]
    }
   ],
   "source": [
    "import numpy as np\n",
    "\n",
    "from tensorflow.keras.preprocessing.text import Tokenizer\n",
    "from tensorflow.keras.preprocessing.sequence import pad_sequences\n",
    "from keras.preprocessing import sequence\n",
    "from keras.utils import np_utils\n",
    "\n",
    "data_input_title = data_input.title.values\n",
    "data_input_section = data_input.section.values\n",
    "data_input_index = data_input.index\n",
    "\n",
    "x = tokenizer.texts_to_sequences(data_input_title)\n",
    "padded_x = sequence.pad_sequences(x, maxlen=18)\n",
    "Y_prediction = model.predict(padded_x)\n",
    "\n",
    "n = np.argmax(Y_prediction)\n",
    "print('Index: ' + str(data_input_index[0]) + ', Actual Section: ' + str(data_input_section[0]) + ', Expected Section: ' + str(n))\n",
    "print(data_input_title[0])"
   ]
  },
  {
   "cell_type": "code",
   "execution_count": 6,
   "id": "moved-webcam",
   "metadata": {},
   "outputs": [
    {
     "name": "stdout",
     "output_type": "stream",
     "text": [
      "[    0     0     0     0     0     0     0     0     0  1958    40   739\n",
      "   162  7282 23248   315  3504  3356]\n"
     ]
    }
   ],
   "source": [
    "print(padded_x[0])"
   ]
  },
  {
   "cell_type": "code",
   "execution_count": 7,
   "id": "parliamentary-sussex",
   "metadata": {},
   "outputs": [
    {
     "name": "stdout",
     "output_type": "stream",
     "text": [
      "[[    0     0     0     0     0     0     0     0     0  1958    40   739\n",
      "    162  7282 23248   315  3504  3356]]\n"
     ]
    }
   ],
   "source": [
    "print(padded_x)"
   ]
  },
  {
   "cell_type": "code",
   "execution_count": 5,
   "id": "opposite-greek",
   "metadata": {},
   "outputs": [
    {
     "name": "stdout",
     "output_type": "stream",
     "text": [
      "                                             title  section\n",
      "3                온더 이더리움 레이어2 솔루션 토카막 네트워크 개발자에 공개        3\n",
      "7                   2022년 발사 예정인 달 탐사 궤도선 비행 방식 변경        3\n",
      "11                     카카오톡 새해부터 먹통 트래픽 폭증… 2시간 장애        3\n",
      "15     MS 14일부터 ‘윈도7’ 기술 지원 중단… 과기부 종합상황실 설치 보안 대응        3\n",
      "19                       삼성전자 TV도 美 ‘8K UHD’ 인증 획득        3\n",
      "...                                            ...      ...\n",
      "9987                제주도 올해 LNG보급·탄소없는 섬 추진에 3천억 투입        3\n",
      "9991             KT스카이라이프 보좌관 제작 스튜디오앤뉴 지분 9.9% 취득        3\n",
      "9995                      게시판 중기중앙회 홈페이지 이용자 중심 개편        3\n",
      "9999          SK텔레콤 CES 2020서 5G 기반 미디어·모빌리티 시대 연다        3\n",
      "10000           임혜숙 장관 후보자 디지털 뉴딜 성공으로 대한민국 대전환 기여        3\n",
      "\n",
      "[2501 rows x 2 columns]\n",
      "                           title  section\n",
      "4855  박영선 디지털 대전환 위한 관점의 이동 필요종합        3\n",
      "                                             title  section\n",
      "3                온더 이더리움 레이어2 솔루션 토카막 네트워크 개발자에 공개        3\n",
      "7                   2022년 발사 예정인 달 탐사 궤도선 비행 방식 변경        3\n",
      "11                     카카오톡 새해부터 먹통 트래픽 폭증… 2시간 장애        3\n",
      "15     MS 14일부터 ‘윈도7’ 기술 지원 중단… 과기부 종합상황실 설치 보안 대응        3\n",
      "19                       삼성전자 TV도 美 ‘8K UHD’ 인증 획득        3\n",
      "...                                            ...      ...\n",
      "9987                제주도 올해 LNG보급·탄소없는 섬 추진에 3천억 투입        3\n",
      "9991             KT스카이라이프 보좌관 제작 스튜디오앤뉴 지분 9.9% 취득        3\n",
      "9995                      게시판 중기중앙회 홈페이지 이용자 중심 개편        3\n",
      "9999          SK텔레콤 CES 2020서 5G 기반 미디어·모빌리티 시대 연다        3\n",
      "10000           임혜숙 장관 후보자 디지털 뉴딜 성공으로 대한민국 대전환 기여        3\n",
      "\n",
      "[2501 rows x 2 columns]\n"
     ]
    }
   ],
   "source": [
    "df2 = pd.concat([df1, data_input], ignore_index=True)\n",
    "df3 = df2[ df2['section'] == data_input_section[0]]\n",
    "\n",
    "print(df3)\n",
    "print(df3.loc[[4855], :])\n",
    "\n",
    "#x = []\n",
    "#for i in range(0, 2501):\n",
    "#    x.append(i)\n",
    "    \n",
    "#df3[\"number\"] = x\n",
    "\n",
    "print(df3)"
   ]
  },
  {
   "cell_type": "code",
   "execution_count": null,
   "id": "assured-progress",
   "metadata": {
    "scrolled": true
   },
   "outputs": [],
   "source": [
    "df2 = df1[ df1['section'] == data_input_section[0]]\n",
    "df3 = pd.concat([df2, data_input], ignore_index=True)\n",
    "#df2.loc[0] = [data_input_title[0], data_input_section[0]]\n",
    "#df3 = df2.sort_index()\n",
    "\n",
    "#df2.loc[0] = [data_input_title[0], data_input_section[0]]\n",
    "\n",
    "print( df3.shape )\n",
    "print( df3[['title', 'section']][:3]  )\n",
    "\n",
    "print(df3)\n"
   ]
  },
  {
   "cell_type": "code",
   "execution_count": 6,
   "id": "colonial-association",
   "metadata": {
    "scrolled": true
   },
   "outputs": [
    {
     "name": "stdout",
     "output_type": "stream",
     "text": [
      "                                title\n",
      "3   온더 이더리움 레이어2 솔루션 토카막 네트워크 개발자에 공개\n",
      "7      2022년 발사 예정인 달 탐사 궤도선 비행 방식 변경\n",
      "11        카카오톡 새해부터 먹통 트래픽 폭증… 2시간 장애\n",
      "(2501, 29774)\n",
      "  (0, 20397)\t1\n",
      "  (0, 21813)\t1\n",
      "  (0, 11504)\t1\n",
      "  (0, 16984)\t1\n",
      "  (0, 27063)\t1\n",
      "  (0, 9402)\t1\n",
      "  (0, 5959)\t1\n",
      "  (0, 7096)\t1\n",
      "  (0, 20398)\t1\n",
      "  (0, 21814)\t1\n",
      "  (0, 11505)\t1\n",
      "  (0, 16995)\t1\n",
      "  (0, 27064)\t1\n",
      "  (0, 9403)\t1\n",
      "  (0, 5960)\t1\n",
      "  (0, 20399)\t1\n",
      "  (0, 21815)\t1\n",
      "  (0, 11506)\t1\n",
      "  (0, 16996)\t1\n",
      "  (0, 27065)\t1\n",
      "  (0, 9404)\t1\n",
      "  (1, 1157)\t1\n",
      "  (1, 13383)\t1\n",
      "  (1, 20209)\t1\n",
      "  (1, 26936)\t1\n",
      "  :\t:\n",
      "  (2499, 12515)\t1\n",
      "  (2500, 8692)\t1\n",
      "  (2500, 11145)\t1\n",
      "  (2500, 23084)\t1\n",
      "  (2500, 10516)\t1\n",
      "  (2500, 10315)\t1\n",
      "  (2500, 16475)\t1\n",
      "  (2500, 22793)\t1\n",
      "  (2500, 29672)\t1\n",
      "  (2500, 9768)\t1\n",
      "  (2500, 22794)\t1\n",
      "  (2500, 23107)\t1\n",
      "  (2500, 29673)\t1\n",
      "  (2500, 11153)\t1\n",
      "  (2500, 9769)\t1\n",
      "  (2500, 16476)\t1\n",
      "  (2500, 10519)\t1\n",
      "  (2500, 10316)\t1\n",
      "  (2500, 22795)\t1\n",
      "  (2500, 23108)\t1\n",
      "  (2500, 29674)\t1\n",
      "  (2500, 11154)\t1\n",
      "  (2500, 9770)\t1\n",
      "  (2500, 16477)\t1\n",
      "  (2500, 10520)\t1\n"
     ]
    }
   ],
   "source": [
    "from sklearn.feature_extraction.text import CountVectorizer\n",
    "\n",
    "print( df3[['title']].head(3) )\n",
    "count_vector = CountVectorizer( ngram_range=(1,3) )\n",
    "c_vector_genres = count_vector.fit_transform( df3['title'] )\n",
    "print( c_vector_genres.shape )\n",
    "print( c_vector_genres )"
   ]
  },
  {
   "cell_type": "code",
   "execution_count": 7,
   "id": "amber-traffic",
   "metadata": {},
   "outputs": [
    {
     "name": "stdout",
     "output_type": "stream",
     "text": [
      "[[1. 0. 0. ... 0. 0. 0.]\n",
      " [0. 1. 0. ... 0. 0. 0.]\n",
      " [0. 0. 1. ... 0. 0. 0.]\n",
      " ...\n",
      " [0. 0. 0. ... 1. 0. 0.]\n",
      " [0. 0. 0. ... 0. 1. 0.]\n",
      " [0. 0. 0. ... 0. 0. 1.]]\n",
      "[[   0 2421 2269 ... 1630 1629 1250]\n",
      " [   1 2054 1721 ... 1656 1655    0]\n",
      " [   2 1071  218 ... 1663 1662    0]\n",
      " ...\n",
      " [2498  165  187 ... 1656 1655    0]\n",
      " [2499 2325 2468 ... 1585 1587    0]\n",
      " [2500 1213  929 ... 1661 1660    0]]\n"
     ]
    }
   ],
   "source": [
    "from sklearn.metrics.pairwise import cosine_similarity\n",
    "\n",
    "genres_c_sim = cosine_similarity( c_vector_genres )\n",
    "print( genres_c_sim )\n",
    "\n",
    "genres_c_sim = genres_c_sim.argsort()[:, ::-1]\n",
    "print( genres_c_sim )"
   ]
  },
  {
   "cell_type": "code",
   "execution_count": 8,
   "id": "subject-enlargement",
   "metadata": {},
   "outputs": [
    {
     "name": "stdout",
     "output_type": "stream",
     "text": [
      "임혜숙 장관 후보자 디지털 뉴딜 성공으로 대한민국 대전환 기여\n",
      "??[10000]\n"
     ]
    },
    {
     "ename": "IndexError",
     "evalue": "index 10000 is out of bounds for axis 0 with size 2501",
     "output_type": "error",
     "traceback": [
      "\u001b[1;31m---------------------------------------------------------------------------\u001b[0m",
      "\u001b[1;31mIndexError\u001b[0m                                Traceback (most recent call last)",
      "\u001b[1;32m<ipython-input-8-376a1509e726>\u001b[0m in \u001b[0;36m<module>\u001b[1;34m\u001b[0m\n\u001b[0;32m     23\u001b[0m \u001b[0mprint\u001b[0m\u001b[1;33m(\u001b[0m\u001b[0mnew_string\u001b[0m\u001b[1;33m)\u001b[0m\u001b[1;33m\u001b[0m\u001b[0m\n\u001b[0;32m     24\u001b[0m \u001b[1;33m\u001b[0m\u001b[0m\n\u001b[1;32m---> 25\u001b[1;33m \u001b[0mget_recommend_movie_list\u001b[0m\u001b[1;33m(\u001b[0m \u001b[0mdf3\u001b[0m\u001b[1;33m,\u001b[0m \u001b[0mnew_string\u001b[0m\u001b[1;33m)\u001b[0m\u001b[1;33m\u001b[0m\u001b[0m\n\u001b[0m",
      "\u001b[1;32m<ipython-input-8-376a1509e726>\u001b[0m in \u001b[0;36mget_recommend_movie_list\u001b[1;34m(df, input_title, top)\u001b[0m\n\u001b[0;32m      7\u001b[0m \u001b[1;33m\u001b[0m\u001b[0m\n\u001b[0;32m      8\u001b[0m     \u001b[1;31m# 코사인 유사도 중 비슷한 코사인 유사도를 가진 정보를 추출\u001b[0m\u001b[1;33m\u001b[0m\u001b[1;33m\u001b[0m\u001b[0m\n\u001b[1;32m----> 9\u001b[1;33m     \u001b[0msim_index1\u001b[0m \u001b[1;33m=\u001b[0m \u001b[0mgenres_c_sim\u001b[0m\u001b[1;33m[\u001b[0m\u001b[0mtarget_index\u001b[0m\u001b[1;33m,\u001b[0m \u001b[1;33m:\u001b[0m\u001b[0mtop\u001b[0m\u001b[1;33m]\u001b[0m\u001b[1;33m\u001b[0m\u001b[0m\n\u001b[0m\u001b[0;32m     10\u001b[0m     \u001b[0mprint\u001b[0m\u001b[1;33m(\u001b[0m \u001b[0msim_index1\u001b[0m \u001b[1;33m)\u001b[0m\u001b[1;33m\u001b[0m\u001b[0m\n\u001b[0;32m     11\u001b[0m     \u001b[0msim_index2\u001b[0m \u001b[1;33m=\u001b[0m \u001b[0msim_index1\u001b[0m\u001b[1;33m.\u001b[0m\u001b[0mreshape\u001b[0m\u001b[1;33m(\u001b[0m\u001b[1;33m-\u001b[0m\u001b[1;36m1\u001b[0m\u001b[1;33m)\u001b[0m\u001b[1;33m\u001b[0m\u001b[0m\n",
      "\u001b[1;31mIndexError\u001b[0m: index 10000 is out of bounds for axis 0 with size 2501"
     ]
    }
   ],
   "source": [
    "def get_recommend_movie_list(df, input_title, top=6):\n",
    "    # 입력 제목 영화의 인텍스 값 추출\n",
    "    target_index = df[ df['title'] == input_title].index.values\n",
    "\n",
    "    print('??' + str(target_index ))\n",
    "    \n",
    "\n",
    "    # 코사인 유사도 중 비슷한 코사인 유사도를 가진 정보를 추출    \n",
    "    sim_index1 = genres_c_sim[target_index, :top]\n",
    "    print( sim_index1 )\n",
    "    sim_index2 = sim_index1.reshape(-1)\n",
    "    print( sim_index2 )\n",
    "    # 본인 제외\n",
    "    sim_index3 = sim_index2[ sim_index2 != target_index ]\n",
    "    print( sim_index3 )\n",
    "    \n",
    "   \n",
    "    # 최종 선택   \n",
    "    return  df.iloc[ sim_index2 ]\n",
    "\n",
    "\n",
    "new_string = data_input.title.values[0]\n",
    "print(new_string)\n",
    "\n",
    "get_recommend_movie_list( df3, new_string)"
   ]
  },
  {
   "cell_type": "code",
   "execution_count": null,
   "id": "commercial-nylon",
   "metadata": {},
   "outputs": [],
   "source": []
  }
 ],
 "metadata": {
  "kernelspec": {
   "display_name": "Python 3",
   "language": "python",
   "name": "python3"
  },
  "language_info": {
   "codemirror_mode": {
    "name": "ipython",
    "version": 3
   },
   "file_extension": ".py",
   "mimetype": "text/x-python",
   "name": "python",
   "nbconvert_exporter": "python",
   "pygments_lexer": "ipython3",
   "version": "3.6.5"
  }
 },
 "nbformat": 4,
 "nbformat_minor": 5
}
