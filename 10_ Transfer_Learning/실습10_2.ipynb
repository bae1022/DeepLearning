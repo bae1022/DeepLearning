{
 "cells": [
  {
   "cell_type": "code",
   "execution_count": 1,
   "id": "corporate-switch",
   "metadata": {},
   "outputs": [
    {
     "name": "stdout",
     "output_type": "stream",
     "text": [
      "Done!\n"
     ]
    }
   ],
   "source": [
    "import cv2\n",
    "import math\n",
    "\n",
    "count = 0\n",
    "videoFile = \"../video/Tom and Jerry.mp4\"\n",
    "cap = cv2.VideoCapture(videoFile)\n",
    "frameRate = cap.get(5)\n",
    "\n",
    "x=1\n",
    "\n",
    "while (cap.isOpened()):\n",
    "    frameId = cap.get(1)\n",
    "    ret, frame = cap.read()\n",
    "    \n",
    "    if (ret != True):\n",
    "        break\n",
    "    if (frameId % math.floor(frameRate) == 0):\n",
    "        filename = \"./picture/frame%d.jpg\" % count;count+=1\n",
    "        cv2.imwrite(filename, frame)\n",
    "\n",
    "cap.release()\n",
    "print(\"Done!\")"
   ]
  },
  {
   "cell_type": "code",
   "execution_count": 2,
   "id": "suitable-western",
   "metadata": {
    "scrolled": true
   },
   "outputs": [
    {
     "name": "stdout",
     "output_type": "stream",
     "text": [
      "Done!\n"
     ]
    }
   ],
   "source": [
    "#Tom and Jerry3.mp4 이미지 추출\n",
    "\n",
    "count = 0\n",
    "videoFile = \"../video/Tom and Jerry 3.mp4\"\n",
    "cap = cv2.VideoCapture(videoFile)\n",
    "frameRate = cap.get(5)\n",
    "\n",
    "x=1\n",
    "\n",
    "while (cap.isOpened()):\n",
    "    frameId = cap.get(1)\n",
    "    ret, frame = cap.read()\n",
    "    \n",
    "    if (ret != True):\n",
    "        break\n",
    "    if (frameId % math.floor(frameRate) == 0):\n",
    "        filename = \"./picture/test%d.jpg\" % count;count+=1\n",
    "        cv2.imwrite(filename, frame)\n",
    "\n",
    "cap.release()\n",
    "print(\"Done!\")"
   ]
  },
  {
   "cell_type": "code",
   "execution_count": 3,
   "id": "fundamental-wednesday",
   "metadata": {},
   "outputs": [
    {
     "name": "stderr",
     "output_type": "stream",
     "text": [
      "Using TensorFlow backend.\n"
     ]
    }
   ],
   "source": [
    "import pandas as pd\n",
    "import matplotlib.pyplot as plt\n",
    "import numpy as np\n",
    "from keras.preprocessing import image\n",
    "from keras.utils import np_utils\n",
    "from skimage.transform import resize\n",
    "\n",
    "%matplotlib inline\n",
    "\n",
    "data = pd.read_csv('../dataset/mapping.csv')\n",
    "test = pd.read_csv('../dataset/testing.csv')\n"
   ]
  },
  {
   "cell_type": "code",
   "execution_count": 4,
   "id": "speaking-proof",
   "metadata": {},
   "outputs": [],
   "source": [
    "X = []\n",
    "for img_name in data.Image_ID:\n",
    "    img = plt.imread('./picture/' + img_name)\n",
    "    X.append(img)\n",
    "    \n",
    "X = np.array(X)\n",
    "\n",
    "test_image = []\n",
    "for img_name in test.Image_ID:\n",
    "    img = plt.imread('./picture/' + img_name)\n",
    "    test_image.append(img)     \n",
    "test_img = np.array(test_image)"
   ]
  },
  {
   "cell_type": "code",
   "execution_count": 5,
   "id": "supreme-oregon",
   "metadata": {},
   "outputs": [],
   "source": [
    "from keras.utils import np_utils\n",
    "\n",
    "train_y = np_utils.to_categorical(data.Class)\n",
    "test_y = np_utils.to_categorical(test.Class)"
   ]
  },
  {
   "cell_type": "code",
   "execution_count": 6,
   "id": "sustained-summit",
   "metadata": {},
   "outputs": [],
   "source": [
    "image = []\n",
    "for i in range(0, X.shape[0]):\n",
    "    a = resize(X[i], preserve_range=True, output_shape=(224, 224, 3)).astype(int)\n",
    "    image.append(a)  \n",
    "X = np.array(image)\n",
    "\n",
    "test_image = []\n",
    "for i in range(0, test_img.shape[0]):\n",
    "    a = resize(test_img[i], preserve_range=True, output_shape=(224, 224)).astype(int)\n",
    "    test_image.append(a)\n",
    "test_image = np.array(test_image) "
   ]
  },
  {
   "cell_type": "code",
   "execution_count": 7,
   "id": "homeless-struggle",
   "metadata": {},
   "outputs": [],
   "source": [
    "#from keras.applications.vgg16 import preprocess_input\n",
    "#X = preprocess_input(X)\n",
    "#test_image = preprocess_input(test_image)"
   ]
  },
  {
   "cell_type": "code",
   "execution_count": 8,
   "id": "chemical-functionality",
   "metadata": {},
   "outputs": [],
   "source": [
    "from sklearn.model_selection import train_test_split\n",
    "X_train, X_valid, y_train, y_valid = train_test_split(X, train_y, test_size=0.3, random_state=42)"
   ]
  },
  {
   "cell_type": "code",
   "execution_count": 9,
   "id": "efficient-produce",
   "metadata": {},
   "outputs": [],
   "source": [
    "from keras.models import Sequential\n",
    "from keras.applications.vgg16 import VGG16\n",
    "from keras.layers import Dense, InputLayer, Dropout, Flatten\n",
    "\n",
    "transfer_model = VGG16(weights='imagenet', include_top=False, input_shape=(224, 224, 3))\n",
    "transfer_model.trainable=False"
   ]
  },
  {
   "cell_type": "code",
   "execution_count": 10,
   "id": "bound-evaluation",
   "metadata": {},
   "outputs": [],
   "source": [
    "#X_train = base_model.predict(X_train)\n",
    "#X_valid = base_model.predict(X_valid)\n",
    "#test_image = base_model.predict(test_image)"
   ]
  },
  {
   "cell_type": "code",
   "execution_count": 11,
   "id": "continued-albany",
   "metadata": {},
   "outputs": [],
   "source": [
    "#X_train = X_train.reshape(208, 7*7*512)\n",
    "#X_valid = X_valid.reshape(90, 7*7*512)\n",
    "#test_image = test_image.reshape(186, 7*7*512)\n",
    "\n",
    "#train = X_train/X_train.max()\n",
    "#X_valid = X_valid/X_train.max()\n",
    "#test_image = test_image/test_image.max()"
   ]
  },
  {
   "cell_type": "code",
   "execution_count": 12,
   "id": "exact-negative",
   "metadata": {},
   "outputs": [],
   "source": [
    "\n",
    "model = Sequential()\n",
    "model.add(transfer_model)\n",
    "model.add(Flatten())\n",
    "model.add(Dense(64, activation='relu'))\n",
    "model.add(Dense(3, activation='softmax'))\n",
    "\n",
    "model.compile(loss='categorical_crossentropy', optimizer='adam', metrics=['accuracy'])"
   ]
  },
  {
   "cell_type": "code",
   "execution_count": 13,
   "id": "unusual-console",
   "metadata": {
    "scrolled": false
   },
   "outputs": [
    {
     "name": "stdout",
     "output_type": "stream",
     "text": [
      "Train on 208 samples, validate on 90 samples\n",
      "Epoch 1/100\n",
      "208/208 [==============================] - 109s 526ms/step - loss: 11.0129 - accuracy: 0.6635 - val_loss: 10.8460 - val_accuracy: 0.8222\n",
      "\n",
      "Epoch 00001: val_loss improved from inf to 10.84601, saving model to weights.best2.hdf5\n",
      "Epoch 2/100\n",
      "208/208 [==============================] - 103s 497ms/step - loss: 4.2403 - accuracy: 0.8654 - val_loss: 4.8599 - val_accuracy: 0.8222\n",
      "\n",
      "Epoch 00002: val_loss improved from 10.84601 to 4.85992, saving model to weights.best2.hdf5\n",
      "Epoch 3/100\n",
      "208/208 [==============================] - 132s 634ms/step - loss: 0.6772 - accuracy: 0.9567 - val_loss: 3.7814 - val_accuracy: 0.7778\n",
      "\n",
      "Epoch 00003: val_loss improved from 4.85992 to 3.78144, saving model to weights.best2.hdf5\n",
      "Epoch 4/100\n",
      "208/208 [==============================] - 127s 610ms/step - loss: 0.5364 - accuracy: 0.9615 - val_loss: 2.0401 - val_accuracy: 0.8222\n",
      "\n",
      "Epoch 00004: val_loss improved from 3.78144 to 2.04013, saving model to weights.best2.hdf5\n",
      "Epoch 5/100\n",
      "208/208 [==============================] - 119s 573ms/step - loss: 0.4585 - accuracy: 0.9615 - val_loss: 1.6865 - val_accuracy: 0.8556\n",
      "\n",
      "Epoch 00005: val_loss improved from 2.04013 to 1.68655, saving model to weights.best2.hdf5\n",
      "Epoch 6/100\n",
      "208/208 [==============================] - 102s 491ms/step - loss: 0.1141 - accuracy: 0.9808 - val_loss: 1.9810 - val_accuracy: 0.8444\n",
      "\n",
      "Epoch 00006: val_loss did not improve from 1.68655\n",
      "Epoch 7/100\n",
      "208/208 [==============================] - 109s 523ms/step - loss: 0.1090 - accuracy: 0.9760 - val_loss: 2.5106 - val_accuracy: 0.8556\n",
      "\n",
      "Epoch 00007: val_loss did not improve from 1.68655\n",
      "Epoch 8/100\n",
      "208/208 [==============================] - 115s 554ms/step - loss: 0.0988 - accuracy: 0.9808 - val_loss: 2.6811 - val_accuracy: 0.8667\n",
      "\n",
      "Epoch 00008: val_loss did not improve from 1.68655\n",
      "Epoch 9/100\n",
      "208/208 [==============================] - 113s 542ms/step - loss: 0.0885 - accuracy: 0.9760 - val_loss: 2.7610 - val_accuracy: 0.8667\n",
      "\n",
      "Epoch 00009: val_loss did not improve from 1.68655\n",
      "Epoch 10/100\n",
      "208/208 [==============================] - 109s 526ms/step - loss: 0.1070 - accuracy: 0.9808 - val_loss: 2.7308 - val_accuracy: 0.8667\n",
      "\n",
      "Epoch 00010: val_loss did not improve from 1.68655\n",
      "Epoch 11/100\n",
      "208/208 [==============================] - 104s 502ms/step - loss: 0.1196 - accuracy: 0.9808 - val_loss: 2.8136 - val_accuracy: 0.8667\n",
      "\n",
      "Epoch 00011: val_loss did not improve from 1.68655\n",
      "Epoch 12/100\n",
      "208/208 [==============================] - 116s 559ms/step - loss: 0.0263 - accuracy: 0.9808 - val_loss: 2.9342 - val_accuracy: 0.8556\n",
      "\n",
      "Epoch 00012: val_loss did not improve from 1.68655\n",
      "Epoch 13/100\n",
      "208/208 [==============================] - 113s 544ms/step - loss: 0.0572 - accuracy: 0.9808 - val_loss: 2.7964 - val_accuracy: 0.8667\n",
      "\n",
      "Epoch 00013: val_loss did not improve from 1.68655\n",
      "Epoch 14/100\n",
      "208/208 [==============================] - 111s 534ms/step - loss: 0.1497 - accuracy: 0.9808 - val_loss: 2.7902 - val_accuracy: 0.8667\n",
      "\n",
      "Epoch 00014: val_loss did not improve from 1.68655\n",
      "Epoch 15/100\n",
      "208/208 [==============================] - 105s 503ms/step - loss: 0.1061 - accuracy: 0.9808 - val_loss: 3.3901 - val_accuracy: 0.8444\n",
      "\n",
      "Epoch 00015: val_loss did not improve from 1.68655\n"
     ]
    }
   ],
   "source": [
    "\n",
    "from keras.callbacks import ModelCheckpoint,EarlyStopping\n",
    "filepath=\"weights.best2.hdf5\"\n",
    "\n",
    "early_stopping_callback = EarlyStopping(monitor='val_loss', patience=10)\n",
    "checkpoint = ModelCheckpoint(filepath, monitor='val_loss', verbose=1, save_best_only=True, mode='min')\n",
    "callbacks_list=[checkpoint, early_stopping_callback]\n",
    "\n",
    "history = model.fit(X_train, y_train, epochs=100, validation_data=(X_valid, y_valid), callbacks=callbacks_list)"
   ]
  },
  {
   "cell_type": "code",
   "execution_count": 14,
   "id": "equipped-house",
   "metadata": {
    "scrolled": true
   },
   "outputs": [
    {
     "name": "stdout",
     "output_type": "stream",
     "text": [
      "186/186 [==============================] - 76s 408ms/step\n",
      "Real Test accuracy: 63.98%\n"
     ]
    }
   ],
   "source": [
    "scores = model.evaluate(test_image, test_y)\n",
    "\n",
    "print(\"Real Test %s: %2.2f%%\" % (model.metrics_names[1], scores[1]*100))"
   ]
  },
  {
   "cell_type": "code",
   "execution_count": 15,
   "id": "upset-courtesy",
   "metadata": {
    "scrolled": true
   },
   "outputs": [
    {
     "name": "stdout",
     "output_type": "stream",
     "text": [
      "The screen time of None is 47 seconds\n",
      "The screen time of Jerry is 6 seconds\n",
      "The screen time of Tom is 133 seconds\n"
     ]
    }
   ],
   "source": [
    "\n",
    "predictions = model.predict_classes(test_image)\n",
    "\n",
    "print(\"The screen time of None is\", predictions[predictions==0].shape[0], \"seconds\")\n",
    "print(\"The screen time of Jerry is\", predictions[predictions==1].shape[0], \"seconds\")\n",
    "print(\"The screen time of Tom is\", predictions[predictions==2].shape[0], \"seconds\")"
   ]
  },
  {
   "cell_type": "code",
   "execution_count": 19,
   "id": "expanded-mineral",
   "metadata": {},
   "outputs": [
    {
     "data": {
      "image/png": "[encoded data removed]",
      "text/plain": [
       "<Figure size 432x288 with 1 Axes>"
      ]
     },
     "metadata": {
      "needs_background": "light"
     },
     "output_type": "display_data"
    }
   ],
   "source": [
    "acc = history.history['accuracy']\n",
    "val_acc = history.history['val_accuracy']\n",
    "y_vloss = history.history['val_loss']\n",
    "y_loss = history.history['loss']\n",
    "\n",
    "x_len = np.arange(len(y_loss))\n",
    "#plt.ylim(-0.1, 2)\n",
    "plt.ylim(-0.1, 4)\n",
    "plt.plot(x_len, acc, marker='.', c=\"red\", label='Trainset_acc')\n",
    "plt.plot(x_len, val_acc, marker='.', c=\"lightcoral\", label='Testset_acc')\n",
    "plt.plot(x_len, y_vloss, marker='.', c=\"cornflowerblue\", label='Testset_loss')\n",
    "plt.plot(x_len, y_loss, marker='.', c=\"blue\", label='Trainset_loss')\n",
    "\n",
    "plt.legend(loc='upper right')\n",
    "plt.grid()\n",
    "plt.xlabel('epoch')\n",
    "plt.ylabel('loss/acc')\n",
    "plt.show()"
   ]
  },
  {
   "cell_type": "code",
   "execution_count": null,
   "id": "greater-cotton",
   "metadata": {},
   "outputs": [],
   "source": []
  }
 ],
 "metadata": {
  "kernelspec": {
   "display_name": "Python 3",
   "language": "python",
   "name": "python3"
  },
  "language_info": {
   "codemirror_mode": {
    "name": "ipython",
    "version": 3
   },
   "file_extension": ".py",
   "mimetype": "text/x-python",
   "name": "python",
   "nbconvert_exporter": "python",
   "pygments_lexer": "ipython3",
   "version": "3.6.5"
  }
 },
 "nbformat": 4,
 "nbformat_minor": 5
}
